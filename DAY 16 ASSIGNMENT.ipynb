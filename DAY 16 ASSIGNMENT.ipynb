{
 "cells": [
  {
   "cell_type": "markdown",
   "id": "f04788a5",
   "metadata": {},
   "source": [
    "- **Name**: Muhammad Umer\n",
    "- **Email**: uumer2428@gmail.com\n",
    "- **Whatsapp**: 03155979489"
   ]
  },
  {
   "cell_type": "markdown",
   "id": "a6affb50",
   "metadata": {},
   "source": [
    "# ASSIGNMENT DAY 16"
   ]
  },
  {
   "cell_type": "markdown",
   "id": "aef2c6a6",
   "metadata": {},
   "source": [
    "- # Choosing a Statistical Method"
   ]
  },
  {
   "cell_type": "markdown",
   "id": "ec93d016",
   "metadata": {},
   "source": [
    "## MAIN OBJECTIVES\n",
    "\n"
   ]
  },
  {
   "cell_type": "markdown",
   "id": "057394f0",
   "metadata": {},
   "source": [
    "- ## This will enhance your skills: \n",
    "  1. Choosing a right statistical method.\n",
    "  2. Do's and Dont's of statistics.\n",
    "  3. Reliable results.\n",
    "  4. Paper revisions with proof of statistical test(WHQs)\n",
    "  5. Making data visualization.\n",
    "  6. Interpreting Results\n",
    " "
   ]
  },
  {
   "cell_type": "markdown",
   "id": "2eccf4d6",
   "metadata": {},
   "source": [
    "## TESTS AND THEIR TYPES"
   ]
  },
  {
   "cell_type": "markdown",
   "id": "862c36be",
   "metadata": {},
   "source": [
    "- ## PARAMETRIC RESULTS:\n",
    "    - More reliable results.\n",
    "    - First we have to meet the assumptions."
   ]
  },
  {
   "cell_type": "markdown",
   "id": "9f4d483e",
   "metadata": {},
   "source": [
    "- ## NON-PARAMETRIC RESULTS:\n",
    "    - Less reliable results.\n",
    "    - Calculates the rank of data.\n",
    "    - No need to meet the assumptions."
   ]
  },
  {
   "cell_type": "markdown",
   "id": "4ee15f1e",
   "metadata": {},
   "source": [
    "# Step 1:NORMALITY TEST"
   ]
  },
  {
   "cell_type": "markdown",
   "id": "65e34503",
   "metadata": {},
   "source": [
    "- ## Tests to be used: \n",
    "    - Shapiro Wilk Test\n",
    "        - Specific( Reliable)\n",
    "    - Kolmogorov Smirnov Test\n",
    "        - General(Less Reliable)"
   ]
  },
  {
   "cell_type": "markdown",
   "id": "67470507",
   "metadata": {},
   "source": [
    "# Step 2:HOMOGENEITY TEST\n"
   ]
  },
  {
   "cell_type": "markdown",
   "id": "b18dd92a",
   "metadata": {},
   "source": [
    "The variance of the **variable** in data are equal\n",
    "- ### Tests to be used:\n",
    "    - Levene's Test"
   ]
  },
  {
   "cell_type": "markdown",
   "id": "0476904a",
   "metadata": {},
   "source": [
    "# Step 3: PURPOSE"
   ]
  },
  {
   "cell_type": "markdown",
   "id": "830a6517",
   "metadata": {},
   "source": [
    "## KNOW THE PURPOSE OF YOUR RESEARCH QUESTION"
   ]
  },
  {
   "cell_type": "markdown",
   "id": "062a6fa6",
   "metadata": {},
   "source": [
    "## TYPES OF PURPOSES:\n",
    "\n",
    "- ### COMPARISON(At least two groups must be compared):\n",
    "\n",
    "    - Male vs Female\n",
    "    - Control group vs Treatment group\n",
    "    - Grouping individuals by color preference \n",
    "    \n",
    "- ### RELATIONSHIP(connection): \n",
    "      We seek here  \n",
    "      1.Connection \n",
    "      2.Correlation\n",
    "      3.Causation\n",
    "      4.Prediction\n",
    "\n",
    "    - Can food predict weight of group of individuals\n",
    "    - Do fertilizer application increase the growth of crops?\n",
    "    \n",
    "   \n",
    "      \n",
    "    "
   ]
  },
  {
   "cell_type": "markdown",
   "id": "543f0557",
   "metadata": {},
   "source": [
    "# Step 4: DATA TYPE"
   ]
  },
  {
   "cell_type": "markdown",
   "id": "08e8c89d",
   "metadata": {},
   "source": [
    "## Know the type of data you are working with"
   ]
  },
  {
   "cell_type": "markdown",
   "id": "333cc3e7",
   "metadata": {},
   "source": [
    "## Types of Data:\n",
    "\n",
    " - ### Categorical:(Yes or No,True or False)\n",
    "     - Qualitative\n",
    "     - No numerical meaning\n",
    "     - Represented in texts(e.g character and figures)\n",
    "     - Examples:\n",
    "       - Have you ever been to lahore?(Yes or No)\n",
    "       - Which gene was expressed?(Yes or No)\n",
    "       - Do you like mangoes?(Yes or No)\n",
    " - ### Continous:\n",
    "     - Quantitative\n",
    "     - Numerical\n",
    "     - Mostly represented in numbers(e.g Numerical variable, int and float)\n",
    "     - Examples:\n",
    "       - Amount\n",
    "       - Number\n",
    "       - Age\n",
    "       - Plant Height\n",
    "       - Number of bacterial colonies\n",
    "       - Chlorophyl content\n",
    "       - Fertilizer amount\n",
    "     \n",
    "        "
   ]
  },
  {
   "cell_type": "markdown",
   "id": "d397b213",
   "metadata": {},
   "source": [
    "# Step 5: STATISTICAL TESTS"
   ]
  },
  {
   "cell_type": "markdown",
   "id": "0a629c12",
   "metadata": {},
   "source": [
    "## Choose a statistical test from three main families"
   ]
  },
  {
   "cell_type": "markdown",
   "id": "52e9c111",
   "metadata": {},
   "source": [
    "## 3 Families of statistical tests:"
   ]
  },
  {
   "cell_type": "markdown",
   "id": "93c98ce8",
   "metadata": {},
   "source": [
    "- ## 1. Chi-Squared Test:\n",
    "    - Purpose : Comparison\n",
    "    - Data : Categorical only\n",
    "  \n",
    "-  ## When and Where to use?\n",
    "      - Types :\n",
    "         1. Chi-squared test of homogeneity\n",
    "         2. Chi-squared test of independence\n",
    "      - When to use?\n",
    "         -    Nothing affects this\n",
    "         -    Can be used with any number of levels    \n",
    "\n"
   ]
  },
  {
   "cell_type": "markdown",
   "id": "0aac6d1a",
   "metadata": {},
   "source": [
    "- ## 2. t-Test/ANOVA:\n",
    "   - Purpose : Comparison\n",
    "   - Data : Categorical and Continous\n",
    " \n",
    "- ## When and Where to use?\n",
    "    - Types:\n",
    "       1. One-Sample t-test(For one sample group with a know mean)   \n",
    "       2. Two-Sample t-test:\n",
    "            - Unpaired t-test(Two different groups)\n",
    "            - Paired t-test(Same group twice) \n",
    "       3. ANOVA(3+ levels or groups are involved)\n",
    "            - One way Anova: (Even one of the group is significant you will get significant results but   doesn't tell you which one)\n",
    "            - Two way ANOVA\n",
    "            - Repeated measures of ANOVA: (3+ paired groups are involved, scale up of paired t-test)\n",
    "    \n"
   ]
  },
  {
   "cell_type": "markdown",
   "id": "4c36bb00",
   "metadata": {},
   "source": [
    "- ## 3. Correlation:\n",
    "   -  Purpose : Relationship\n",
    "   - Data : Continous only\n",
    "- ## When and where to use?\n",
    "  - Types:\n",
    "    1. Pearson's Correlation(One independent and one dependent variable):\n",
    "       - Tells us how closely connected variables are\n",
    "       - \"Is food a predictor of weight gain?\" \n",
    "    2. Regression(One independent and one dependent variable):\n",
    "       - Tells us the specific mathematical equation that describes the relationship\n",
    "       - This helps us to find data points not measured yet\n",
    "       - eg: missing values can be predicted like this\n",
    "  \n"
   ]
  },
  {
   "cell_type": "markdown",
   "id": "1b837f05",
   "metadata": {},
   "source": [
    "## These tests trusts you that:\n",
    "- ## Your data is normally distributed \n",
    "- ## Follow a Gaussian distribution.\n",
    "## If you do not follow the assumptions and break the trust of 3-test families , they will not be happy with you ( NON - RELIABLE RESULTS)"
   ]
  },
  {
   "cell_type": "markdown",
   "id": "9ffc345a",
   "metadata": {},
   "source": [
    "## If assumptions are not met!\n",
    "   1. Normalize your data\n",
    "    \n",
    "       - Standardization\n",
    "      \n",
    "       - Min/Max scaling \n",
    "     \n",
    "       - Log transformation\n",
    "     \n",
    "   3. Use alternative non parametric tests  "
   ]
  },
  {
   "cell_type": "markdown",
   "id": "fcd632e2",
   "metadata": {},
   "source": [
    "## Alternative Non Parametric Tests\n",
    "   1. Chi-squared test\n",
    "      - Chi- squared test\n",
    "   2. t-test/ANOVA :\n",
    "      - One sample t-test\n",
    "        - One sample wilcoxon\n",
    "        - Signed rank test\n",
    "      - Two sample t-test\n",
    "        - Unpaired t-test(Mann Whitney's U t-test)  \n",
    "        - Paired t-test(Wilcoxon)\n",
    "      - ANOVA( Kruskal Wallis test)\n",
    "   3. Correlation\n",
    "      - Pearson's correlation\n",
    "        - Spearman's Correlation\n",
    "        - Kendall's Tau\n",
    "      - Regression  "
   ]
  },
  {
   "cell_type": "markdown",
   "id": "47554d0c",
   "metadata": {},
   "source": [
    "## TYPES OF ANOVA"
   ]
  },
  {
   "cell_type": "markdown",
   "id": "22b724f8",
   "metadata": {},
   "source": [
    "1. ANOVA\n",
    "    - One way Anova\n",
    "    - Two way Anova\n",
    "    - Repeated measures of Anova\n",
    "2. ANCOVA( Analysis Of Co-Variance)\n",
    "    -  Compare the means of 3+ independent groups which can not be tested by ANOVA because the variales are affected by co-variance( pretest and protest of class)\n",
    "3. MANOVA(Multi Variate Analysis of Variance)\n",
    "4. MANCOVA(Multi Variate analysis of co-variance)"
   ]
  },
  {
   "cell_type": "markdown",
   "id": "38b0b6b4",
   "metadata": {},
   "source": [
    "## Some Other Tests"
   ]
  },
  {
   "cell_type": "markdown",
   "id": "ec64ce97",
   "metadata": {},
   "source": [
    "- ### Reliability Tests;\n",
    "  - Kunder Richardson's Formula 20 and 21(KR20/21)\n",
    "  - Cronbach's Alpha\n",
    "- ### Inter Rater Reliability Tests:\n",
    "  - Krippendof's Alpha\n",
    "    - Categorical and continous\n",
    "  - Fleis's Kappa\n",
    "    - Only categorical\n",
    "- ### Validity Tests:\n",
    "  -  Krippendof's Alpha\n",
    "  -  Fleis's Kappa\n",
    "- ### Sample size Computation:\n",
    "  How to make sure hoe many samples are valid\n",
    "  - Cochrane's Q test\n",
    "  - Yamane's test\n",
    "  - many others....  "
   ]
  }
 ],
 "metadata": {
  "kernelspec": {
   "display_name": "Python 3 (ipykernel)",
   "language": "python",
   "name": "python3"
  },
  "language_info": {
   "codemirror_mode": {
    "name": "ipython",
    "version": 3
   },
   "file_extension": ".py",
   "mimetype": "text/x-python",
   "name": "python",
   "nbconvert_exporter": "python",
   "pygments_lexer": "ipython3",
   "version": "3.10.1"
  }
 },
 "nbformat": 4,
 "nbformat_minor": 5
}
