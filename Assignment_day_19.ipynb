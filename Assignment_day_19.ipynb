{
 "cells": [
  {
   "cell_type": "markdown",
   "metadata": {},
   "source": [
    "### MUHAMMAD UMER\n",
    "### uumer2428@gmail.com\n",
    "### 03155979489"
   ]
  },
  {
   "cell_type": "markdown",
   "metadata": {},
   "source": [
    "# ASSIGNMENT DAY 19"
   ]
  },
  {
   "cell_type": "markdown",
   "metadata": {},
   "source": [
    "# Types Of Machine Learning"
   ]
  },
  {
   "cell_type": "markdown",
   "metadata": {},
   "source": [
    "Their certain varieties of how to characterize the kinds of Machine Learning Algorithms types yet usually they can be partitioned into classes as per \n",
    "\n",
    "their motivation, and the fundamental classifications are the accompanying:\n",
    "\n",
    "Supervised learning\n",
    "\n",
    "Unsupervised Learning\n",
    "\n",
    "Semi-supervised Learning\n",
    "\n",
    "Reinforcement Learning"
   ]
  },
  {
   "cell_type": "markdown",
   "metadata": {},
   "source": [
    " # What is Supervised Learning"
   ]
  },
  {
   "cell_type": "markdown",
   "metadata": {},
   "source": [
    "Supervised Learning is where you can consider an instructor who guides the learning. We have a dataset which goes about as an educator, and its job is to \n",
    "\n",
    "prepare the model or the machine. When the model is prepared, it can begin settling on an expectation or choice when new information is given.\n",
    "\n",
    "## Example of Supervised Learning:\n",
    "\n",
    "- You get a lot of photographs with data about what is on them, and after that, you train a model to perceive new photographs.\n",
    "\n",
    "- You have a lot of data about house prices based on their size and location, and you feed it into the model and train it, then you can predict the price \n",
    "  of other houses based on the data you feed.\n",
    "\n",
    "- if you want to predict that your message is spam or not based on the older message you have, you can predict that a new message is a spam or not."
   ]
  },
  {
   "cell_type": "markdown",
   "metadata": {},
   "source": [
    "## The supervised learning algorithm is as follow:\n",
    "\n",
    "## 1) Linear Regression :\n",
    "    linear regression is valuable for discovering the connection between two persistent factors. One is a predictor or autonomous variable, and the other\n",
    "\n",
    "    is a reaction or ward variable. It searches for measurable relationships, however, not a deterministic relationship. The connection between two\n",
    "    \n",
    "    factors is said to be deterministic on the off chance that one variable can be precisely communicated by the other"
   ]
  },
  {
   "cell_type": "markdown",
   "metadata": {},
   "source": [
    "## 2) Decision Trees\n",
    "    A Decision tree is a decision help gadget that uses a tree-like diagram or model of decisions and their potential outcomes, including chance-event \n",
    "    \n",
    "    results, resource costs, and utility. Explore the image to get a sentiment of what it resembles."
   ]
  },
  {
   "cell_type": "markdown",
   "metadata": {},
   "source": [
    "## 3) Naive Bayes Classification\n",
    "    Naive Bayes classification is a group of basic probabilistic classifiers dependent on applying Bayes’ theory with strong (unsophisticated) \n",
    "    \n",
    "    self-governance of the features Naive Bayes"
   ]
  },
  {
   "cell_type": "markdown",
   "metadata": {},
   "source": [
    "## 4) Logistic Regression\n",
    "    Logistic regression is a ground-breaking factual method for demonstrating a binomial result with at least one informative factor. It quantifies the connection between the absolute ward variable and at least one free factor by evaluating probabilities utilizing a logistic capacity, the combined logistic appropriation.\n",
    "\n",
    "    Normally, regressions will be usable in real-life like:\n",
    "\n",
    "    Credit Score\n",
    "\n",
    "    The measure of the success rate of market or company\n",
    "\n",
    "    To predict the revenue of any company or any product\n",
    "\n",
    "    Is there will be an earthquake on any day?\n",
    "\n",
    "## 5) Ordinary Least Squares Regression\n",
    "    The least-squares is a strategy for performing direct regression. direct regression is the undertaking of fitting a line through a lot of focuses. "
   ]
  },
  {
   "cell_type": "markdown",
   "metadata": {},
   "source": [
    "## What is Unsupervised Learning?\n",
    "    The model learns through perception and discovers structures in the information. When the model is given a dataset, it consequently discovers examples and connections in the dataset by making bunches in it. It can’t add marks to the bunch, similar to it can’t state this a gathering of apples or mangoes; however, it will isolate every one of the apples from mangoes.\n",
    "\n",
    "    Assume we displayed pictures of apples, bananas, and mangoes to the model, so it makes bunches and partitions the dataset into those groups in light of certain examples and connections. Presently if another information is bolstered to the model, it adds it to one of the made bunches."
   ]
  },
  {
   "cell_type": "markdown",
   "metadata": {},
   "source": [
    "### The unsupervised learning algorithm is as follow\n",
    "\n",
    "## Clustering\n",
    "    Clustering is a significant idea with regard to unaided learning. It manages to find a structure or example in a gathering of uncategorized information for the most part. Clustering calculations will process your information and discover characteristic clusters(groups) in the event that they exist in the information. You can likewise alter what number of bunches your calculations ought to distinguish. It enables you to alter the granularity of these gatherings.\n",
    "\n",
    "    There are various kinds of clustering you can use\n",
    "\n",
    "- Selective (apportioning)\n",
    "- Model: K-means\n",
    "- Agglomerative\n",
    "- Model: Hierarchical clustering\n",
    "- Covering\n",
    "- Model: Fuzzy C-Means\n",
    "- Probabilistic\n",
    "## Clustering algorithm Types\n",
    "\n",
    "- Hierarchical clustering\n",
    "- K-means clustering\n",
    "- K-NN (k nearest neighbors)\n",
    "- Principal Component Analysis\n",
    "- Solitary Value Decomposition\n",
    "- Independent Component Analysis\n",
    "- Hierarchical Clustering"
   ]
  },
  {
   "cell_type": "markdown",
   "metadata": {},
   "source": [
    "## What is Reinforcement Learning?\n",
    "    It is the capacity of a specialist to collaborate with the earth and discover what the best result is. It pursues the idea of hit and preliminary technique. The operator is remunerated or punished with a point for a right or an off-base answer, and based on the positive reward focuses picked up, the model trains itself. Also, again once prepared, it prepares to foresee the new information introduced to it.\n",
    "\n",
    "### Example of Reinforcement Learning\n",
    "\n",
    "- Displaying ads, according to user like dislikes, optimize for the long-period\n",
    "- Know ads budget used in real-time\n",
    "- inverse reinforcement learning to know customers like dislikes better\n",
    "## What is Semi-Supervised Learning?\n",
    "    Semi-supervised kind of learning, the calculation is prepared upon a mix of named and unlabeled information. Normally, this blend will contain a limited quantity of named information and a lot of unlabeled information. The fundamental method included is that the software engineer will first group comparable information utilizing an unaided learning calculation and afterward utilize the current named information to name the remainder of the unlabeled information. The ordinary use instances of such kind of calculation have a typical property among them – The obtaining of unlabeled information is generally modest while naming the said information is over the top expensive. Naturally, one may envision the three kinds of learning calculations as Supervised realizing where an understudy is under the supervision of an instructor at both home and school, Unsupervised realizing where an understudy needs to make sense of an idea himself and Semi-Supervised realizing where an educator shows a couple of ideas in class and gives inquiries as schoolwork which depend on comparable ideas."
   ]
  }
 ],
 "metadata": {
  "interpreter": {
   "hash": "80c120683e98059cd44d4ab93f2cea7b1e32b20ff58d21dccc771fb8d21cfc2f"
  },
  "kernelspec": {
   "display_name": "Python 3.10.1 64-bit",
   "language": "python",
   "name": "python3"
  },
  "language_info": {
   "name": "python",
   "version": "3.10.1"
  },
  "orig_nbformat": 4
 },
 "nbformat": 4,
 "nbformat_minor": 2
}
