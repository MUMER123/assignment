{
 "cells": [
  {
   "cell_type": "markdown",
   "metadata": {},
   "source": [
    "# Assignment Day 13"
   ]
  },
  {
   "cell_type": "markdown",
   "metadata": {},
   "source": [
    "Muhammad Umer\n",
    "\n",
    "email: uumer2428@gmail.com\n",
    "\n",
    "whatsapp:03155979489"
   ]
  },
  {
   "cell_type": "code",
   "execution_count": 1,
   "metadata": {},
   "outputs": [],
   "source": [
    "import pandas as pd\n",
    "import numpy as np"
   ]
  },
  {
   "cell_type": "markdown",
   "metadata": {},
   "source": [
    "# Basic Statistics Terms\n",
    "- ## Mean\n",
    "Mean is a part of descriptive statistics.\n",
    "\n",
    " It is the average of the given data set.\n",
    " \n",
    "  You can calculate the mean by adding all the data set values and then dividing the values’ sum by the number of values in the data set.\n",
    "\n",
    "- ## Median\n",
    "The median is the part of the central tendency.\n",
    "\n",
    "Median is the middle value of the data set.\n",
    "\n",
    " If the data set contains the odd numbers of observations, then the middle value automatically becomes the median.\n",
    "\n",
    "- ## Mode\n",
    "\n",
    "The mode is the value that appears most often in the given dataset.\n",
    "\n",
    " Mode value is more likely to be sampled from the given data set\n",
    "\n",
    " "
   ]
  },
  {
   "cell_type": "markdown",
   "metadata": {},
   "source": [
    "# What are the basic elements of statistics?\n",
    "There are four basic elements of statistics that are as follows;\n",
    "\n",
    "- Population\n",
    "- Sample\n",
    "- Parameter\n",
    "- Statistic Variable"
   ]
  },
  {
   "cell_type": "markdown",
   "metadata": {},
   "source": [
    "# Notations and Symbols in statistics\n",
    "- ## Capitalization\n",
    "Generally lower case letters represent the sample attributes and capital case letters are used to represent population attributes.\n",
    "\n",
    "- P - population proportion.\n",
    "\n",
    "- p - sample proportion.\n",
    "\n",
    "- X - set of population elements.\n",
    "\n",
    "- x - set of sample elements.\n",
    "\n",
    "- N - set of population size.\n",
    "\n",
    "- N - set of sample size.\n",
    "\n",
    "- ## Greek Vs Roman letters\n",
    "Roman letters represent the sample attributs and greek letters are used to represent Population attributes.\n",
    "\n",
    "- μ - population mean.\n",
    "\n",
    "- x¯ - sample mean.\n",
    "\n",
    "- δ - standard deviation of a population.\n",
    "\n",
    "- s - standard deviation of a sample.\n",
    "\n",
    "- ## Population specific Parameters\n",
    "Following symbols represent population specific attributes.\n",
    "\n",
    "- μ - population mean.\n",
    "\n",
    "- δ - standard deviation of a population.\n",
    "\n",
    "- μ2 - variance of a population.\n",
    "\n",
    "- P - proportion of population elements having a particular attribute.\n",
    "\n",
    "- Q - proportion of population elements having no particular attribute.\n",
    "\n",
    "- ρ - population correlation coefficient based on all of the elements from a population.\n",
    "\n",
    "- N - number of elements in a population.\n",
    "\n",
    "- ## Sample specific Parameters\n",
    "Following symbols represent population specific attributes.\n",
    "\n",
    "- x¯ - sample mean.\n",
    "\n",
    "- s - standard deviation of a sample.\n",
    "\n",
    "- s2 - variance of a sample.\n",
    "\n",
    "- p - proportion of sample elements having a particular attribute.\n",
    "\n",
    "- q - proportion of sample elements having no particular attribute.\n",
    "\n",
    "- r - population correlation coefficient based on all of the elements from a sample.\n",
    "\n",
    "- n - number of elements in a sample.\n",
    "\n",
    "- ## Linear Regression\n",
    "- B0 - intercept constant in a population regression line.\n",
    "\n",
    "- B1 - regression coefficient in a population regression line.\n",
    "\n",
    "- R2 - coefficient of determination.\n",
    "\n",
    "- b0 - intercept constant in a sample regression line.\n",
    "\n",
    "- b1 - regression coefficient in a sample regression line.\n",
    "\n",
    "- sb1 - standard error of the slope of a regression line.\n",
    "\n",
    "- ## Probability\n",
    "- P(A) - probability that event A will occur.\n",
    "\n",
    "- P(A|B) - conditional probability that event A occurs, given that event B has occurred.\n",
    "\n",
    "- P(A′) - probability of the complement of event A.\n",
    "\n",
    "- P(A∩B) - probability of the intersection of events A and B.\n",
    "\n",
    "- P(A∪B) - probability of the union of events A and B.\n",
    "\n",
    "- E(X) - expected value of random variable X.\n",
    "\n",
    "- b(x;n,P) - binomial probability.\n",
    "\n",
    "- b∗(x;n,P) - negative binomial probability.\n",
    "\n",
    "- g(x;P) - geometric probability.\n",
    "\n",
    "- h(x;N,n,k) - hypergeometric probability.\n",
    "\n",
    "- ## Permutation/Combination\n",
    "- n! - factorial value of n.\n",
    "\n",
    "- nPr - number of permutations of n things taken r at a time.\n",
    "\n",
    "- nCr - number of combinations of n things taken r at a time.\n",
    "\n",
    "- ## Set\n",
    "- A⋒B - intersection of set A and B.\n",
    "\n",
    "- A⋓B - union of set A and B.\n",
    "\n",
    "- {A,B,C} - set of elements consisting of A, B, and C.\n",
    "\n",
    "- ∅ - null or empty set.\n",
    "\n",
    "- ## Hypothesis Testing\n",
    "- H0 - null hypothesis.\n",
    "\n",
    "- H1 - alternative hypothesis.\n",
    "\n",
    "- α - significance level.\n",
    "\n",
    "- β - probability of committing a Type II error.\n",
    "\n",
    "- ## Random Variables\n",
    "- Z or z - standardized score, also known as a z score.\n",
    "\n",
    "- zα - standardized score that has a cumulative probability equal to 1−α.\n",
    "\n",
    "- tα - t statistic that has a cumulative probability equal to 1−α.\n",
    "\n",
    "- fα - f statistic that has a cumulative probability equal to 1−α.\n",
    "\n",
    "- fα(v1,v2) - f statistic that has a cumulative probability equal to 1−α and v1 and v2 degrees of freedom.\n",
    "\n",
    "- X2 - chi-square statistic.\n",
    "\n",
    "- ## Summation Symbols\n",
    "- ∑ - summation symbol, used to compute sums over a range of values.\n",
    "\n",
    "- ∑x or ∑xi - sum of a set of n observations. Thus, ∑x=x1+x2+...+xn."
   ]
  },
  {
   "cell_type": "markdown",
   "metadata": {},
   "source": [
    "# Calculating Mean ,Median and Mode with python code using Iris :"
   ]
  },
  {
   "cell_type": "markdown",
   "metadata": {},
   "source": [
    "- ## Mean:  "
   ]
  },
  {
   "cell_type": "code",
   "execution_count": 7,
   "metadata": {},
   "outputs": [
    {
     "name": "stderr",
     "output_type": "stream",
     "text": [
      "C:\\Users\\MUHAMM~1\\AppData\\Local\\Temp/ipykernel_8148/2683770706.py:4: FutureWarning: Dropping of nuisance columns in DataFrame reductions (with 'numeric_only=None') is deprecated; in a future version this will raise TypeError.  Select only valid columns before calling the reduction.\n",
      "  f.mean()\n"
     ]
    },
    {
     "data": {
      "text/plain": [
       "sepal length (cm)    5.843333\n",
       "sepal_width          3.054000\n",
       "petal length (cm)    3.758667\n",
       "petal width (cm)     1.198667\n",
       "dtype: float64"
      ]
     },
     "execution_count": 7,
     "metadata": {},
     "output_type": "execute_result"
    }
   ],
   "source": [
    "f=pd.read_csv(\"iris.csv\")\n",
    "f.head()\n",
    "f[\"sepal_width\"].mean()\n",
    "f.mean()"
   ]
  },
  {
   "cell_type": "markdown",
   "metadata": {},
   "source": [
    "- ## Median: "
   ]
  },
  {
   "cell_type": "code",
   "execution_count": 10,
   "metadata": {},
   "outputs": [
    {
     "name": "stderr",
     "output_type": "stream",
     "text": [
      "C:\\Users\\MUHAMM~1\\AppData\\Local\\Temp/ipykernel_8148/2238208667.py:1: FutureWarning: Dropping of nuisance columns in DataFrame reductions (with 'numeric_only=None') is deprecated; in a future version this will raise TypeError.  Select only valid columns before calling the reduction.\n",
      "  f.median()\n"
     ]
    },
    {
     "data": {
      "text/plain": [
       "sepal length (cm)    5.80\n",
       "sepal_width          3.00\n",
       "petal length (cm)    4.35\n",
       "petal width (cm)     1.30\n",
       "dtype: float64"
      ]
     },
     "execution_count": 10,
     "metadata": {},
     "output_type": "execute_result"
    }
   ],
   "source": [
    "f.median()"
   ]
  },
  {
   "cell_type": "markdown",
   "metadata": {},
   "source": [
    "- ## Mode:"
   ]
  },
  {
   "cell_type": "code",
   "execution_count": 13,
   "metadata": {},
   "outputs": [
    {
     "data": {
      "text/html": [
       "<div>\n",
       "<style scoped>\n",
       "    .dataframe tbody tr th:only-of-type {\n",
       "        vertical-align: middle;\n",
       "    }\n",
       "\n",
       "    .dataframe tbody tr th {\n",
       "        vertical-align: top;\n",
       "    }\n",
       "\n",
       "    .dataframe thead th {\n",
       "        text-align: right;\n",
       "    }\n",
       "</style>\n",
       "<table border=\"1\" class=\"dataframe\">\n",
       "  <thead>\n",
       "    <tr style=\"text-align: right;\">\n",
       "      <th></th>\n",
       "      <th>sepal length (cm)</th>\n",
       "      <th>sepal_width</th>\n",
       "      <th>petal length (cm)</th>\n",
       "      <th>petal width (cm)</th>\n",
       "      <th>target</th>\n",
       "    </tr>\n",
       "  </thead>\n",
       "  <tbody>\n",
       "    <tr>\n",
       "      <th>0</th>\n",
       "      <td>5.0</td>\n",
       "      <td>3.0</td>\n",
       "      <td>1.5</td>\n",
       "      <td>0.2</td>\n",
       "      <td>Iris-setosa</td>\n",
       "    </tr>\n",
       "    <tr>\n",
       "      <th>1</th>\n",
       "      <td>NaN</td>\n",
       "      <td>NaN</td>\n",
       "      <td>NaN</td>\n",
       "      <td>NaN</td>\n",
       "      <td>Iris-versicolor</td>\n",
       "    </tr>\n",
       "    <tr>\n",
       "      <th>2</th>\n",
       "      <td>NaN</td>\n",
       "      <td>NaN</td>\n",
       "      <td>NaN</td>\n",
       "      <td>NaN</td>\n",
       "      <td>Iris-virginica</td>\n",
       "    </tr>\n",
       "  </tbody>\n",
       "</table>\n",
       "</div>"
      ],
      "text/plain": [
       "   sepal length (cm)  sepal_width  petal length (cm)  petal width (cm)  \\\n",
       "0                5.0          3.0                1.5               0.2   \n",
       "1                NaN          NaN                NaN               NaN   \n",
       "2                NaN          NaN                NaN               NaN   \n",
       "\n",
       "            target  \n",
       "0      Iris-setosa  \n",
       "1  Iris-versicolor  \n",
       "2   Iris-virginica  "
      ]
     },
     "execution_count": 13,
     "metadata": {},
     "output_type": "execute_result"
    }
   ],
   "source": [
    "f.mode()"
   ]
  }
 ],
 "metadata": {
  "interpreter": {
   "hash": "80c120683e98059cd44d4ab93f2cea7b1e32b20ff58d21dccc771fb8d21cfc2f"
  },
  "kernelspec": {
   "display_name": "Python 3.10.1 64-bit",
   "language": "python",
   "name": "python3"
  },
  "language_info": {
   "codemirror_mode": {
    "name": "ipython",
    "version": 3
   },
   "file_extension": ".py",
   "mimetype": "text/x-python",
   "name": "python",
   "nbconvert_exporter": "python",
   "pygments_lexer": "ipython3",
   "version": "3.10.1"
  },
  "orig_nbformat": 4
 },
 "nbformat": 4,
 "nbformat_minor": 2
}
